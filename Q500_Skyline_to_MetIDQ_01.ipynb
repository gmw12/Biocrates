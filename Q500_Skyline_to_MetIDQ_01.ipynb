{
 "cells": [
  {
   "cell_type": "code",
   "execution_count": 1,
   "id": "0d82af82",
   "metadata": {},
   "outputs": [],
   "source": [
    "import pandas as pd\n",
    "import numpy as np\n",
    "import os\n",
    "from ipyfilechooser import FileChooser\n",
    "\n",
    "pd.set_option('display.max_columns', 500)"
   ]
  },
  {
   "cell_type": "markdown",
   "id": "472dc85d",
   "metadata": {},
   "source": [
    "## Pick and load configuration file"
   ]
  },
  {
   "cell_type": "code",
   "execution_count": 2,
   "id": "ab08cf62",
   "metadata": {},
   "outputs": [
    {
     "data": {
      "application/vnd.jupyter.widget-view+json": {
       "model_id": "fd778d1a3742448cb407fd821f303889",
       "version_major": 2,
       "version_minor": 0
      },
      "text/plain": [
       "FileChooser(path='/home/greg/Nextcloud/Q500', filename='', title='', show_hidden=False, select_desc='Select', …"
      ]
     },
     "metadata": {},
     "output_type": "display_data"
    }
   ],
   "source": [
    "fc1 = FileChooser('')\n",
    "fc1.show_only_dirs = False\n",
    "display(fc1)"
   ]
  },
  {
   "cell_type": "code",
   "execution_count": 3,
   "id": "4e27d5e2",
   "metadata": {},
   "outputs": [
    {
     "name": "stdout",
     "output_type": "stream",
     "text": [
      "Q500_configuration.xlsx\n"
     ]
    }
   ],
   "source": [
    "# Display selected folder\n",
    "print(fc1.selected_filename)"
   ]
  },
  {
   "cell_type": "markdown",
   "id": "b01172b1",
   "metadata": {},
   "source": [
    "## Pick and load Skyline Data"
   ]
  },
  {
   "cell_type": "code",
   "execution_count": 4,
   "id": "e204a4e4",
   "metadata": {},
   "outputs": [
    {
     "data": {
      "application/vnd.jupyter.widget-view+json": {
       "model_id": "8b0222a02324427e9a4c3edd9834c363",
       "version_major": 2,
       "version_minor": 0
      },
      "text/plain": [
       "FileChooser(path='/home/greg/Nextcloud/Q500', filename='', title='', show_hidden=False, select_desc='Select', …"
      ]
     },
     "metadata": {},
     "output_type": "display_data"
    }
   ],
   "source": [
    "fc2 = FileChooser('')\n",
    "fc2.show_only_dirs = False\n",
    "display(fc2)"
   ]
  },
  {
   "cell_type": "code",
   "execution_count": 45,
   "id": "02c3c547",
   "metadata": {},
   "outputs": [
    {
     "name": "stdout",
     "output_type": "stream",
     "text": [
      "/home/greg/Nextcloud/Q500\n",
      "/home/greg/Nextcloud/Q500/6069 Plate 1 Skyline Q500 Export beta_LC1.csv\n"
     ]
    }
   ],
   "source": [
    "# Display selected folder\n",
    "print(fc2.selected_path)\n",
    "#print(fc.selected_filename)\n",
    "print(fc2.selected)\n",
    "# load skyline data\n",
    "data = pd.read_csv(fc2.selected)"
   ]
  },
  {
   "cell_type": "code",
   "execution_count": 46,
   "id": "01fb51c6",
   "metadata": {},
   "outputs": [
    {
     "name": "stdout",
     "output_type": "stream",
     "text": [
      "Data type is --> Sciex LC1\n",
      "Method name is --> MxP500L-LC1_5712\n"
     ]
    }
   ],
   "source": [
    "# check data to see if LC1/LC2 or Sciex/TQXS\n",
    "\n",
    "if (data['Molecule Name'].str.contains('Met-His').any()):\n",
    "    data_type = \"LC1\"\n",
    "    if (data['Molecule Name'].str.contains('Met-His_2').any()):\n",
    "        ms_type = \"Sciex\"\n",
    "        lc1_df = pd.read_excel(fc1.selected, \"LC1\")\n",
    "        analytes = lc1_df['Analyte Peak Name']\n",
    "        internal_stds = lc1_df['IS Peak Name']\n",
    "        acq_method = 'MxP500L-LC1_5712'\n",
    "    else:\n",
    "        ms_type = \"Waters\"\n",
    "        lc1_df = pd.read_excel(fc1.selected, \"LC1_TQXS\")\n",
    "        analytes = lc1_df['Analyte Peak Name']\n",
    "        internal_stds = lc1_df['IS Peak Name']\n",
    "        acq_method = 'MxP500L-LC1_8312'\n",
    "else:\n",
    "    data_type = \"LC2\"\n",
    "    if (data['Molecule Name'].str.contains('AA_3').any()):\n",
    "        ms_type = \"Sciex\"\n",
    "        lc2_df = pd.read_excel(fc1.selected, \"LC2\")\n",
    "        analytes = lc2_df['Analyte Peak Name']\n",
    "        internal_stds = lc2_df['IS Peak Name']\n",
    "        acq_method = 'MxP500L-LC2_5712'\n",
    "    else:\n",
    "        ms_type = \"Waters\"\n",
    "        lc2_df = pd.read_excel(fc1.selected, \"LC2_TQXS\")\n",
    "        analytes = lc2_df['Analyte Peak Name']\n",
    "        internal_stds = lc2_df['IS Peak Name']  \n",
    "        acq_method = 'MxP500L-LC1_8312'\n",
    "        \n",
    "print(f\"Data type is --> {ms_type} {data_type}\")\n",
    "print(f\"Method name is --> {acq_method}\")"
   ]
  },
  {
   "cell_type": "code",
   "execution_count": 47,
   "id": "f140c6b4",
   "metadata": {},
   "outputs": [],
   "source": [
    "col_names = ['Analyte Peak Name', 'Sample ID', 'Analyte Retention Time (min)', 'Sample Type', \n",
    "             'Analyte Peak Area (counts)', 'Area Ratio','Dilution Factor', 'Analyte Concentration (uM)',\n",
    "             'Calculated Concentration (uM)', 'Accuracy (%)', 'File Name', 'Acquisition Date', \n",
    "             'Analyte Peak Height (cps)', 'Analyte Peak Width (min)', 'IS Peak Name', 'IS Retention Time (min)',\n",
    "             'IS Peak Area (counts)', 'IS Concentration (uM)', 'IS Peak Height (cps)', 'IS Peak Width (min)', \n",
    "             'Height Ratio', 'Acquisition Method', 'Analyte Units', 'IS Units', 'Plate Position','Rack Position', \n",
    "             'Analyte Mass Ranges (Da)', 'Analyte Signal To Noise', 'IS Signal To Noise', 'Relative Retention Time', \n",
    "             'Sample Name']\n",
    "\n",
    "blank = '11000002'\n",
    "double_blank = '10000001'"
   ]
  },
  {
   "cell_type": "code",
   "execution_count": 48,
   "id": "b3d8788a",
   "metadata": {},
   "outputs": [],
   "source": [
    "#create blank dataframe\n",
    "final_data = pd.DataFrame(columns = col_names)"
   ]
  },
  {
   "cell_type": "code",
   "execution_count": 49,
   "id": "f25b5614",
   "metadata": {},
   "outputs": [
    {
     "name": "stdout",
     "output_type": "stream",
     "text": [
      "1-Met-His\n",
      "Analyte and Internal Standard dataframes match\n",
      "-------------------------\n",
      "3-IAA\n",
      "Analyte and Internal Standard dataframes match\n",
      "-------------------------\n",
      "3-IPA\n",
      "Analyte and Internal Standard dataframes match\n",
      "-------------------------\n",
      "3-Met-His\n",
      "Analyte and Internal Standard dataframes match\n",
      "-------------------------\n",
      "5-AVA\n",
      "Analyte and Internal Standard dataframes match\n",
      "-------------------------\n",
      "AABA\n",
      "Analyte and Internal Standard dataframes match\n",
      "-------------------------\n",
      "Ac-Orn\n",
      "Analyte and Internal Standard dataframes match\n",
      "-------------------------\n",
      "ADMA\n",
      "Analyte and Internal Standard dataframes match\n",
      "-------------------------\n",
      "Ala\n",
      "Analyte and Internal Standard dataframes match\n",
      "-------------------------\n",
      "alpha-AAA\n",
      "Analyte and Internal Standard dataframes match\n",
      "-------------------------\n",
      "Anserine\n",
      "Analyte and Internal Standard dataframes match\n",
      "-------------------------\n",
      "Arg\n",
      "Analyte and Internal Standard dataframes match\n",
      "-------------------------\n",
      "Asn_2\n",
      "Analyte and Internal Standard dataframes match\n",
      "-------------------------\n",
      "Asp\n",
      "Analyte and Internal Standard dataframes match\n",
      "-------------------------\n",
      "BABA\n",
      "Analyte and Internal Standard dataframes match\n",
      "-------------------------\n",
      "b-Ala\n",
      "Analyte and Internal Standard dataframes match\n",
      "-------------------------\n",
      "Betaine\n",
      "Analyte and Internal Standard dataframes match\n",
      "-------------------------\n",
      "c4-OH-Pro\n",
      "Analyte and Internal Standard dataframes match\n",
      "-------------------------\n",
      "Carnosine\n",
      "Analyte and Internal Standard dataframes match\n",
      "-------------------------\n",
      "Choline\n",
      "Analyte and Internal Standard dataframes match\n",
      "-------------------------\n",
      "Cit\n",
      "Analyte and Internal Standard dataframes match\n",
      "-------------------------\n",
      "Cortisol\n",
      "Analyte and Internal Standard dataframes match\n",
      "-------------------------\n",
      "Cortisone\n",
      "Analyte and Internal Standard dataframes match\n",
      "-------------------------\n",
      "Creatinine\n",
      "Analyte and Internal Standard dataframes match\n",
      "-------------------------\n",
      "Cysteine\n",
      "Analyte and Internal Standard dataframes match\n",
      "-------------------------\n",
      "DOPA\n",
      "Analyte and Internal Standard dataframes match\n",
      "-------------------------\n",
      "Dopamine\n",
      "Analyte and Internal Standard dataframes match\n",
      "-------------------------\n",
      "GABA\n",
      "Analyte and Internal Standard dataframes match\n",
      "-------------------------\n",
      "Gln\n",
      "Analyte and Internal Standard dataframes match\n",
      "-------------------------\n",
      "Glu\n",
      "Analyte and Internal Standard dataframes match\n",
      "-------------------------\n",
      "Gly\n",
      "Analyte and Internal Standard dataframes match\n",
      "-------------------------\n",
      "HArg\n",
      "Analyte and Internal Standard dataframes match\n",
      "-------------------------\n",
      "HipAcid\n",
      "Analyte and Internal Standard dataframes match\n",
      "-------------------------\n",
      "His\n",
      "Analyte and Internal Standard dataframes match\n",
      "-------------------------\n",
      "Histamine\n",
      "Analyte and Internal Standard dataframes match\n",
      "-------------------------\n",
      "Homocysteine\n",
      "Analyte and Internal Standard dataframes match\n",
      "-------------------------\n",
      "Hypoxanthine\n",
      "Analyte and Internal Standard dataframes match\n",
      "-------------------------\n",
      "Ile\n",
      "Analyte and Internal Standard dataframes match\n",
      "-------------------------\n",
      "Indole\n",
      "Analyte and Internal Standard dataframes match\n",
      "-------------------------\n",
      "Kynurenine\n",
      "Analyte and Internal Standard dataframes match\n",
      "-------------------------\n",
      "Leu\n",
      "Analyte and Internal Standard dataframes match\n",
      "-------------------------\n",
      "Lys\n",
      "Analyte and Internal Standard dataframes match\n",
      "-------------------------\n",
      "Met\n",
      "Analyte and Internal Standard dataframes match\n",
      "-------------------------\n",
      "Met-SO\n",
      "Analyte and Internal Standard dataframes match\n",
      "-------------------------\n",
      "Nitro-Tyr\n",
      "Analyte and Internal Standard dataframes match\n",
      "-------------------------\n",
      "Orn\n",
      "Analyte and Internal Standard dataframes match\n",
      "-------------------------\n",
      "PAG\n",
      "Analyte and Internal Standard dataframes match\n",
      "-------------------------\n",
      "PEA_2\n",
      "Analyte and Internal Standard dataframes match\n",
      "-------------------------\n",
      "Phe\n",
      "Analyte and Internal Standard dataframes match\n",
      "-------------------------\n",
      "PheAlaBetaine\n",
      "Analyte and Internal Standard dataframes match\n",
      "-------------------------\n",
      "Pro\n",
      "Analyte and Internal Standard dataframes match\n",
      "-------------------------\n",
      "ProBetaine\n",
      "Analyte and Internal Standard dataframes match\n",
      "-------------------------\n",
      "Putrescine\n",
      "Analyte and Internal Standard dataframes match\n",
      "-------------------------\n",
      "Sarcosine\n",
      "Analyte and Internal Standard dataframes match\n",
      "-------------------------\n",
      "SDMA\n",
      "Analyte and Internal Standard dataframes match\n",
      "-------------------------\n",
      "Ser\n",
      "Analyte and Internal Standard dataframes match\n",
      "-------------------------\n",
      "Serotonin\n",
      "Analyte and Internal Standard dataframes match\n",
      "-------------------------\n",
      "Spermidine\n",
      "Analyte and Internal Standard dataframes match\n",
      "-------------------------\n",
      "Spermine\n",
      "Analyte and Internal Standard dataframes match\n",
      "-------------------------\n",
      "t4-OH-Pro\n",
      "Analyte and Internal Standard dataframes match\n",
      "-------------------------\n",
      "Taurine\n",
      "Analyte and Internal Standard dataframes match\n",
      "-------------------------\n",
      "Thr\n",
      "Analyte and Internal Standard dataframes match\n",
      "-------------------------\n",
      "TMAO\n",
      "Analyte and Internal Standard dataframes match\n",
      "-------------------------\n",
      "Trigonelline\n",
      "Analyte and Internal Standard dataframes match\n",
      "-------------------------\n",
      "Trp\n",
      "Analyte and Internal Standard dataframes match\n",
      "-------------------------\n",
      "TrpBetaine\n",
      "Analyte and Internal Standard dataframes match\n",
      "-------------------------\n",
      "Tyr\n",
      "Analyte and Internal Standard dataframes match\n",
      "-------------------------\n",
      "Val\n",
      "Analyte and Internal Standard dataframes match\n",
      "-------------------------\n",
      "Xanthine\n",
      "Analyte and Internal Standard dataframes match\n",
      "-------------------------\n",
      "Cortisol_3\n",
      "Analyte and Internal Standard dataframes match\n",
      "-------------------------\n",
      "Cortisone_3\n",
      "Analyte and Internal Standard dataframes match\n",
      "-------------------------\n"
     ]
    }
   ],
   "source": [
    "#loop through all analytes in set\n",
    "for a in range(0, len(analytes)):\n",
    "    print(analytes[a])\n",
    "\n",
    "    #create dataframe for indiv. analyte and its IS\n",
    "    analyte_df = data.loc[(data['Molecule Name']  == analytes[a]) & (data['Isotope Label Type']  == 'light')]\n",
    "    analyte_df.reset_index(inplace=True, drop=True)\n",
    "    \n",
    "    if ms_type == \"Sciex\":\n",
    "        is_df = data.loc[(data['Molecule Name']  == internal_stds[a]) & (data['Isotope Label Type']  == 'heavy')]\n",
    "        is_df.reset_index(inplace=True, drop=True)\n",
    "    \n",
    "    if ms_type == \"Waters\":\n",
    "        is_df = data.loc[(data['Transition Note']  == internal_stds[a]) & (data['Isotope Label Type']  == 'heavy')]\n",
    "        is_df.reset_index(inplace=True, drop=True)\n",
    "        if (is_df.shape[0] == 0 and data_type == \"LC2\"):\n",
    "            is_df = data.loc[(data['Molecule Name']  == internal_stds[a])]\n",
    "            is_df.reset_index(inplace=True, drop=True)\n",
    "\n",
    "    #check that analyte and IS dataframes samples are in order\n",
    "    if(analyte_df['Replicate'].equals(is_df['Replicate'])):\n",
    "        print('Analyte and Internal Standard dataframes match')\n",
    "    else:\n",
    "        print('you got a problem, Analyte and Internal Standard dataframes do NOT match')\n",
    "\n",
    "    #creat blank temp dataframe\n",
    "    temp_df = pd.DataFrame(columns = col_names)\n",
    "\n",
    "    #transfer columns\n",
    "    temp_df['Analyte Peak Name'] = analyte_df['Molecule Name']\n",
    "    temp_df['Sample ID'] = analyte_df['Replicate']\n",
    "    temp_df['Sample ID'] = temp_df['Sample ID'].str.split('_', -1).str[5]\n",
    "    temp_df['Analyte Retention Time (min)'] = analyte_df['Molecule Retention Time']\n",
    "    temp_df['Sample Type'] = analyte_df['Sample Type']\n",
    "    temp_df['Analyte Peak Area (counts)'] = analyte_df['Total Area']\n",
    "    temp_df['Area Ratio'] = analyte_df['Total Area'] / is_df['Total Area']\n",
    "    temp_df['Dilution Factor'] = analyte_df['Sample Dilution Factor']\n",
    "    temp_df['Analyte Concentration (uM)'] = analyte_df['Analyte Concentration']\n",
    "    temp_df['Calculated Concentration (uM)'] = analyte_df['Calculated Concentration']\n",
    "    temp_df['Accuracy (%)'] = analyte_df['Accuracy']\n",
    "    try:\n",
    "        temp_df['Accuracy (%)'] = temp_df['Accuracy (%)'].str.replace(\"%\",\"\")\n",
    "    except:\n",
    "         print('No accuracy found')\n",
    "    temp_df['File Name'] = analyte_df['File Name']\n",
    "    temp_df['Acquisition Date'] = analyte_df['Acquired Time']\n",
    "    temp_df['Acquisition Date'] = temp_df['Acquisition Date'].str.split(' ', -1).str[1]\n",
    "    temp_df['Analyte Peak Height (cps)'] = analyte_df['Max Height']\n",
    "    temp_df['Analyte Peak Width (min)'] = analyte_df['Fwhm']\n",
    "    temp_df['IS Peak Name'] = is_df['Molecule Name']\n",
    "    temp_df['IS Retention Time (min)'] = is_df['Molecule Retention Time']\n",
    "    temp_df['IS Peak Area (counts)'] = is_df['Total Area']\n",
    "    temp_df['IS Concentration (uM)'] = 1\n",
    "    temp_df['IS Peak Height (cps)'] = is_df['Max Height']\n",
    "    temp_df['IS Peak Width (min)'] = is_df['Fwhm']\n",
    "    temp_df['Height Ratio'] = analyte_df['Max Height'] / is_df['Max Height']\n",
    "    temp_df['Acquisition Method'] = acq_method\n",
    "    temp_df['Analyte Units'] = \"uM\"\n",
    "    temp_df['IS Units'] = \"uM\"\n",
    "    temp_df['Plate Position'] = analyte_df['Replicate']\n",
    "    temp_df['Plate Position'] = temp_df['Plate Position'].str.split('_', -1).str[0]\n",
    "    temp_df['Rack Position'] = analyte_df['Replicate']\n",
    "    temp_df['Rack Position'] = temp_df['Rack Position'].str.split('_', -1).str[2]\n",
    "    temp_df['Analyte Mass Ranges (Da)'] = \"\"\n",
    "    temp_df['Analyte Signal To Noise'] = \"\"\n",
    "    temp_df['IS Signal To Noise'] = \"\"\n",
    "    temp_df['Relative Retention Time'] = analyte_df['Molecule Retention Time']\n",
    "    temp_df['Sample Name'] = analyte_df['Replicate']\n",
    "    temp_df['Sample Name'] = temp_df['Sample Name'].str.split('_', -1).str[6]\n",
    "    #assign Sample Type from ID\n",
    "    final_data.loc[final_data['Sample ID'] == blank, 'Sample Type'] = \"Blank\"\n",
    "    final_data.loc[final_data['Sample ID'] == double_blank, 'Sample Type'] = \"Double Blank\" \n",
    "    \n",
    "    final_data = pd.concat([final_data, temp_df])\n",
    "    print('-------------------------')"
   ]
  },
  {
   "cell_type": "code",
   "execution_count": 56,
   "id": "cbe33f7e",
   "metadata": {},
   "outputs": [],
   "source": [
    "#fix formatting\n",
    "final_data.replace([np.inf, -np.inf], np.nan, inplace=True)\n",
    "final_data['Calculated Concentration (uM)'] = pd.to_numeric(final_data['Calculated Concentration (uM)'], errors='coerce')\n",
    "final_data['Height Ratio'] = pd.to_numeric(final_data['Height Ratio'], errors='coerce')\n",
    "final_data['Area Ratio'] = pd.to_numeric(final_data['Area Ratio'], errors='coerce')"
   ]
  },
  {
   "cell_type": "code",
   "execution_count": 57,
   "id": "281ff599",
   "metadata": {},
   "outputs": [
    {
     "data": {
      "text/plain": [
       "(8094, 31)"
      ]
     },
     "execution_count": 57,
     "metadata": {},
     "output_type": "execute_result"
    }
   ],
   "source": [
    "final_data.shape"
   ]
  },
  {
   "cell_type": "code",
   "execution_count": 58,
   "id": "104dd1ed",
   "metadata": {},
   "outputs": [],
   "source": [
    "final_data.to_csv(fc2.selected_path + '/' + data_type + \"_final_data.csv\", index=False)"
   ]
  },
  {
   "cell_type": "code",
   "execution_count": 59,
   "id": "835d2565",
   "metadata": {},
   "outputs": [],
   "source": [
    "final_data.to_csv(fc2.selected_path + '/' + data_type + \"_final_data.txt\", sep='\\t', index=False)"
   ]
  },
  {
   "cell_type": "code",
   "execution_count": null,
   "id": "66f791f2",
   "metadata": {},
   "outputs": [],
   "source": []
  }
 ],
 "metadata": {
  "@webio": {
   "lastCommId": null,
   "lastKernelId": null
  },
  "kernelspec": {
   "display_name": "Python 3 (ipykernel)",
   "language": "python",
   "name": "python3"
  },
  "language_info": {
   "codemirror_mode": {
    "name": "ipython",
    "version": 3
   },
   "file_extension": ".py",
   "mimetype": "text/x-python",
   "name": "python",
   "nbconvert_exporter": "python",
   "pygments_lexer": "ipython3",
   "version": "3.9.12"
  }
 },
 "nbformat": 4,
 "nbformat_minor": 5
}
